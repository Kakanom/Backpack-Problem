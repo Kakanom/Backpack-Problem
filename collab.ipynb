{
  "nbformat": 4,
  "nbformat_minor": 0,
  "metadata": {
    "colab": {
      "provenance": []
    },
    "kernelspec": {
      "name": "python3",
      "display_name": "Python 3"
    },
    "language_info": {
      "name": "python"
    }
  },
  "cells": [
    {
      "cell_type": "markdown",
      "source": [
        "#Installing and Importing Packages"
      ],
      "metadata": {
        "id": "Ak0gHmLKdKbf"
      }
    },
    {
      "cell_type": "code",
      "source": [
        "!pip install dwave.system\n",
        "!pip install dwave.cloud\n",
        "!pip install dwave.samplers"
      ],
      "metadata": {
        "id": "GFtXHUx_aZfK",
        "colab": {
          "base_uri": "https://localhost:8080/"
        },
        "outputId": "4bbe4304-4b54-4fbe-d20f-0c7b21069a36"
      },
      "execution_count": 1,
      "outputs": [
        {
          "output_type": "stream",
          "name": "stdout",
          "text": [
            "Requirement already satisfied: dwave.system in /usr/local/lib/python3.10/dist-packages (1.24.0)\n",
            "Requirement already satisfied: dimod<0.14.0,>=0.12.7 in /usr/local/lib/python3.10/dist-packages (from dwave.system) (0.12.14)\n",
            "Requirement already satisfied: dwave-cloud-client<0.13.0,>=0.11.0 in /usr/local/lib/python3.10/dist-packages (from dwave.system) (0.11.4)\n",
            "Requirement already satisfied: dwave-networkx>=0.8.10 in /usr/local/lib/python3.10/dist-packages (from dwave.system) (0.8.14)\n",
            "Requirement already satisfied: dwave-preprocessing>=0.5.0 in /usr/local/lib/python3.10/dist-packages (from dwave.system) (0.6.5)\n",
            "Requirement already satisfied: homebase<2.0.0,>=1.0.0 in /usr/local/lib/python3.10/dist-packages (from dwave.system) (1.0.1)\n",
            "Requirement already satisfied: minorminer<0.3.0,>=0.2.8 in /usr/local/lib/python3.10/dist-packages (from dwave.system) (0.2.13)\n",
            "Requirement already satisfied: numpy>=1.21.6 in /usr/local/lib/python3.10/dist-packages (from dwave.system) (1.25.2)\n",
            "Requirement already satisfied: dwave-samplers>=1.0.0 in /usr/local/lib/python3.10/dist-packages (from dwave.system) (1.2.0)\n",
            "Requirement already satisfied: scipy>=1.7.3 in /usr/local/lib/python3.10/dist-packages (from dwave.system) (1.11.4)\n",
            "Requirement already satisfied: requests[socks]<3,>=2.25 in /usr/local/lib/python3.10/dist-packages (from dwave-cloud-client<0.13.0,>=0.11.0->dwave.system) (2.31.0)\n",
            "Requirement already satisfied: urllib3<3,>=1.26 in /usr/local/lib/python3.10/dist-packages (from dwave-cloud-client<0.13.0,>=0.11.0->dwave.system) (2.0.7)\n",
            "Requirement already satisfied: pydantic<3,>=2 in /usr/local/lib/python3.10/dist-packages (from dwave-cloud-client<0.13.0,>=0.11.0->dwave.system) (2.7.0)\n",
            "Requirement already satisfied: click<9,>=7.0 in /usr/local/lib/python3.10/dist-packages (from dwave-cloud-client<0.13.0,>=0.11.0->dwave.system) (8.1.7)\n",
            "Requirement already satisfied: python-dateutil<3,>=2.7 in /usr/local/lib/python3.10/dist-packages (from dwave-cloud-client<0.13.0,>=0.11.0->dwave.system) (2.8.2)\n",
            "Requirement already satisfied: plucky<0.5,>=0.4.3 in /usr/local/lib/python3.10/dist-packages (from dwave-cloud-client<0.13.0,>=0.11.0->dwave.system) (0.4.3)\n",
            "Requirement already satisfied: diskcache<6,>=5.2.1 in /usr/local/lib/python3.10/dist-packages (from dwave-cloud-client<0.13.0,>=0.11.0->dwave.system) (5.6.3)\n",
            "Requirement already satisfied: packaging>=19 in /usr/local/lib/python3.10/dist-packages (from dwave-cloud-client<0.13.0,>=0.11.0->dwave.system) (24.0)\n",
            "Requirement already satisfied: werkzeug<4,>=2.2 in /usr/local/lib/python3.10/dist-packages (from dwave-cloud-client<0.13.0,>=0.11.0->dwave.system) (3.0.2)\n",
            "Requirement already satisfied: typing-extensions<5,>=4.5.0 in /usr/local/lib/python3.10/dist-packages (from dwave-cloud-client<0.13.0,>=0.11.0->dwave.system) (4.11.0)\n",
            "Requirement already satisfied: authlib<2,>=1.2 in /usr/local/lib/python3.10/dist-packages (from dwave-cloud-client<0.13.0,>=0.11.0->dwave.system) (1.3.0)\n",
            "Requirement already satisfied: importlib-metadata>=5.0.0 in /usr/local/lib/python3.10/dist-packages (from dwave-cloud-client<0.13.0,>=0.11.0->dwave.system) (7.1.0)\n",
            "Requirement already satisfied: networkx>=2.4 in /usr/local/lib/python3.10/dist-packages (from dwave-networkx>=0.8.10->dwave.system) (3.3)\n",
            "Requirement already satisfied: fasteners>=0.15 in /usr/local/lib/python3.10/dist-packages (from minorminer<0.3.0,>=0.2.8->dwave.system) (0.19)\n",
            "Requirement already satisfied: rectangle-packer>=2.0.1 in /usr/local/lib/python3.10/dist-packages (from minorminer<0.3.0,>=0.2.8->dwave.system) (2.0.2)\n",
            "Requirement already satisfied: cryptography in /usr/local/lib/python3.10/dist-packages (from authlib<2,>=1.2->dwave-cloud-client<0.13.0,>=0.11.0->dwave.system) (42.0.5)\n",
            "Requirement already satisfied: zipp>=0.5 in /usr/local/lib/python3.10/dist-packages (from importlib-metadata>=5.0.0->dwave-cloud-client<0.13.0,>=0.11.0->dwave.system) (3.18.1)\n",
            "Requirement already satisfied: annotated-types>=0.4.0 in /usr/local/lib/python3.10/dist-packages (from pydantic<3,>=2->dwave-cloud-client<0.13.0,>=0.11.0->dwave.system) (0.6.0)\n",
            "Requirement already satisfied: pydantic-core==2.18.1 in /usr/local/lib/python3.10/dist-packages (from pydantic<3,>=2->dwave-cloud-client<0.13.0,>=0.11.0->dwave.system) (2.18.1)\n",
            "Requirement already satisfied: six>=1.5 in /usr/local/lib/python3.10/dist-packages (from python-dateutil<3,>=2.7->dwave-cloud-client<0.13.0,>=0.11.0->dwave.system) (1.16.0)\n",
            "Requirement already satisfied: charset-normalizer<4,>=2 in /usr/local/lib/python3.10/dist-packages (from requests[socks]<3,>=2.25->dwave-cloud-client<0.13.0,>=0.11.0->dwave.system) (3.3.2)\n",
            "Requirement already satisfied: idna<4,>=2.5 in /usr/local/lib/python3.10/dist-packages (from requests[socks]<3,>=2.25->dwave-cloud-client<0.13.0,>=0.11.0->dwave.system) (3.7)\n",
            "Requirement already satisfied: certifi>=2017.4.17 in /usr/local/lib/python3.10/dist-packages (from requests[socks]<3,>=2.25->dwave-cloud-client<0.13.0,>=0.11.0->dwave.system) (2024.2.2)\n",
            "Requirement already satisfied: PySocks!=1.5.7,>=1.5.6 in /usr/local/lib/python3.10/dist-packages (from requests[socks]<3,>=2.25->dwave-cloud-client<0.13.0,>=0.11.0->dwave.system) (1.7.1)\n",
            "Requirement already satisfied: MarkupSafe>=2.1.1 in /usr/local/lib/python3.10/dist-packages (from werkzeug<4,>=2.2->dwave-cloud-client<0.13.0,>=0.11.0->dwave.system) (2.1.5)\n",
            "Requirement already satisfied: cffi>=1.12 in /usr/local/lib/python3.10/dist-packages (from cryptography->authlib<2,>=1.2->dwave-cloud-client<0.13.0,>=0.11.0->dwave.system) (1.16.0)\n",
            "Requirement already satisfied: pycparser in /usr/local/lib/python3.10/dist-packages (from cffi>=1.12->cryptography->authlib<2,>=1.2->dwave-cloud-client<0.13.0,>=0.11.0->dwave.system) (2.22)\n",
            "\u001b[31mERROR: Could not find a version that satisfies the requirement dwave.cloud (from versions: none)\u001b[0m\u001b[31m\n",
            "\u001b[0m\u001b[31mERROR: No matching distribution found for dwave.cloud\u001b[0m\u001b[31m\n",
            "\u001b[0mRequirement already satisfied: dwave.samplers in /usr/local/lib/python3.10/dist-packages (1.2.0)\n",
            "Requirement already satisfied: numpy<2.0.0,>=1.19.0 in /usr/local/lib/python3.10/dist-packages (from dwave.samplers) (1.25.2)\n",
            "Requirement already satisfied: dimod<0.13.0,>=0.12.0 in /usr/local/lib/python3.10/dist-packages (from dwave.samplers) (0.12.14)\n",
            "Requirement already satisfied: networkx>=2.4.0 in /usr/local/lib/python3.10/dist-packages (from dwave.samplers) (3.3)\n"
          ]
        }
      ]
    },
    {
      "cell_type": "code",
      "source": [
        "import numpy as np\n",
        "from collections import defaultdict\n",
        "from dimod import SimulatedAnnealingSampler\n",
        "import random\n",
        "import time\n",
        "import networkx as nx\n",
        "import matplotlib.pyplot as plt\n",
        "from bokeh.palettes import Spectral"
      ],
      "metadata": {
        "id": "hM-qfdRDe7y7"
      },
      "execution_count": 20,
      "outputs": []
    },
    {
      "cell_type": "markdown",
      "source": [
        "# Постановка задачи\n",
        "Есть n предметов и рюкзак. У каждого есть вес и стоимость. Наша задача - максимизировать стоимость предметов"
      ],
      "metadata": {
        "id": "ryiaxvvUGWXg"
      }
    },
    {
      "cell_type": "markdown",
      "source": [
        "#Brute Force"
      ],
      "metadata": {
        "id": "mKX06QhWdSMO"
      }
    },
    {
      "cell_type": "code",
      "source": [
        "# items_values = {\"⚽️\": 8, \"💻\": 47, \"📸\": 10, \"📚\": 5, \"🎸\": 16}\n",
        "# values_list = [8, 47, 10, 5, 16]\n",
        "\n",
        "# items_weight = {\"⚽️\": 3, \"💻\": 11, \"📸\": 14, \"📚\": 19, \"🎸\": 5}\n",
        "# weights_list = [3, 11, 14, 19, 5]\n",
        "\n",
        "# maximum_weight = 26\n",
        "\n",
        "# items_values = {\"⚽️\": 10, \"💻\": 10, \"📸\": 10, \"📚\": 10, \"🎸\": 10}\n",
        "items_values = {i : i for i in range(random.randint(0, 10))}\n",
        "values_list = [items_values[i] for i in range(len(items_values))]\n",
        "\n",
        "items_weight = {i : i for i in range(random.randint(0, 10))}\n",
        "weights_list = [items_values[i] for i in range(len(items_values))]\n",
        "\n",
        "print(*values_list)\n",
        "print(*weights_list)\n",
        "\n",
        "maximum_weight = 50"
      ],
      "metadata": {
        "id": "jz2A14V0jnUn",
        "colab": {
          "base_uri": "https://localhost:8080/"
        },
        "outputId": "90986ae0-6207-4ff7-c0ca-e5e4785462f3"
      },
      "execution_count": 3,
      "outputs": [
        {
          "output_type": "stream",
          "name": "stdout",
          "text": [
            "0 1 2 3 4 5 6 7 8\n",
            "0 1 2 3 4 5 6 7 8\n"
          ]
        }
      ]
    },
    {
      "cell_type": "code",
      "source": [
        "def sum_weight(bitstring, items_weight):\n",
        "    weight = 0\n",
        "    for n, i in enumerate(items_weight):\n",
        "        if bitstring[n] == \"1\":\n",
        "            weight += i\n",
        "    return weight\n",
        "\n",
        "\n",
        "def sum_values(bitstring, items_value):\n",
        "    value = 0\n",
        "    for n, i in enumerate(items_value):\n",
        "        if bitstring[n] == \"1\":\n",
        "            value += i\n",
        "    return value\n",
        "\n",
        "items = list(items_values.keys())\n",
        "n_items = len(items)\n",
        "combinations = {}\n",
        "max_value = 0\n",
        "for case_i in range(2**n_items):  # all possible options\n",
        "    combinations[case_i] = {}\n",
        "    bitstring = np.binary_repr(\n",
        "        case_i, n_items\n",
        "    )  # bitstring representation of a possible combination, e.g, \"01100\" in our problem means bringing (-💻📸--)\n",
        "    combinations[case_i][\"items\"] = [items[n] for n, i in enumerate(bitstring) if i == \"1\"]\n",
        "    combinations[case_i][\"value\"] = sum_values(bitstring, values_list)\n",
        "    combinations[case_i][\"weight\"] = sum_values(bitstring, weights_list)\n",
        "    # save the information of the optimal solution (the one that maximizes the value while respecting the maximum weight)\n",
        "    if (\n",
        "        combinations[case_i][\"value\"] > max_value\n",
        "        and combinations[case_i][\"weight\"] <= maximum_weight\n",
        "    ):\n",
        "        max_value = combinations[case_i][\"value\"]\n",
        "        optimal_solution = {\n",
        "            \"items\": combinations[case_i][\"items\"],\n",
        "            \"value\": combinations[case_i][\"value\"],\n",
        "            \"weight\": combinations[case_i][\"weight\"],\n",
        "        }\n",
        "\n",
        "\n",
        "print(\n",
        "    f\"The best combination is {optimal_solution['items']} with a total value: {optimal_solution['value']} and total weight {optimal_solution['weight']} \"\n",
        ")"
      ],
      "metadata": {
        "colab": {
          "base_uri": "https://localhost:8080/"
        },
        "id": "uc95Cz9hd4O2",
        "outputId": "cebaac78-b654-4e97-b87e-e4632557ac98"
      },
      "execution_count": 4,
      "outputs": [
        {
          "output_type": "stream",
          "name": "stdout",
          "text": [
            "The best combination is [1, 2, 3, 4, 5, 6, 7, 8] with a total value: 36 and total weight 36 \n"
          ]
        }
      ]
    },
    {
      "cell_type": "code",
      "source": [
        "# def time_to_solution(n, time_single_case):\n",
        "#     \"\"\"\n",
        "#         n (int): number of variables\n",
        "#         time_single_case (float): time to solve a single case\n",
        "#     \"\"\"\n",
        "#     return time_single_case * 2 ** n\n",
        "\n",
        "# time_per_case = 1e-9 # time to execute a single case in seconds\n",
        "# sec_day = 3600 * 24 # seconds in a day\n",
        "# sec_year = sec_day * 365 # seconds in a year\n",
        "\n",
        "# print(\n",
        "#     f\"- For 10 items, 2^10 cases, we need {time_to_solution(2, time_per_case)} seconds.\"\n",
        "# )"
      ],
      "metadata": {
        "id": "M5Khp6e-j2Id"
      },
      "execution_count": 5,
      "outputs": []
    },
    {
      "cell_type": "markdown",
      "source": [
        "# DP Soluton"
      ],
      "metadata": {
        "id": "6FpJXFYPPGqN"
      }
    },
    {
      "cell_type": "code",
      "source": [
        "def dp_solution(num_of_items, weights, costs, capacity):\n",
        "    dp = [[0 for x in range(capacity + 1)] for x in range(n + 1)]\n",
        "\n",
        "    for i in range(num_of_items + 1):\n",
        "        for weight in range(capacity + 1):\n",
        "            if i == 0 or weight == 0:\n",
        "                dp[i][weight] = 0\n",
        "            elif weights[i-1] <= weight:\n",
        "                dp[i][weight] = max(costs[i-1]\n",
        "                            + dp[i-1][weight - weights[i-1]],\n",
        "                            dp[i-1][weight])\n",
        "            else:\n",
        "                dp[i][weight] = dp[i-1][weight]\n",
        "\n",
        "    return dp"
      ],
      "metadata": {
        "id": "WocGvIVBPK4p"
      },
      "execution_count": 37,
      "outputs": []
    },
    {
      "cell_type": "code",
      "source": [
        "# 5\n",
        "# 8 47 10 5 16\n",
        "# 3 11 14 19 5\n",
        "# 26\n",
        "\n",
        "num_of_items = int(input())\n",
        "costs = list(map(int, input().split()))\n",
        "weights = list(map(int, input().split()))\n",
        "max_weight = int(input())\n",
        "\n",
        "knapsack = dp_solution(num_of_items, weights, costs, capacity)\n"
      ],
      "metadata": {
        "colab": {
          "base_uri": "https://localhost:8080/"
        },
        "id": "NVo4oExSPski",
        "outputId": "17593a21-f01f-475a-9cd4-b9b00efc4086"
      },
      "execution_count": 38,
      "outputs": [
        {
          "output_type": "stream",
          "name": "stdout",
          "text": [
            "5\n",
            "8 47 10 5 16\n",
            "3 11 14 19 5\n",
            "26\n",
            "71\n"
          ]
        }
      ]
    },
    {
      "cell_type": "markdown",
      "source": [
        "#QUBO Solution"
      ],
      "metadata": {
        "id": "XJ-jvIzRlHIt"
      }
    },
    {
      "cell_type": "code",
      "source": [
        "items_values = {\"⚽️\": 8, \"💻\": 47, \"📸\": 10, \"📚\": 5, \"🎸\": 16}\n",
        "values_list = [8, 47, 10, 5, 16]\n",
        "\n",
        "items_weight = {\"⚽️\": 3, \"💻\": 11, \"📸\": 14, \"📚\": 19, \"🎸\": 5}\n",
        "weights_list = [3, 11, 14, 19, 5]\n",
        "\n",
        "max_weight = 26"
      ],
      "metadata": {
        "id": "AwyQ_GKoltA1"
      },
      "execution_count": 6,
      "outputs": []
    },
    {
      "cell_type": "code",
      "source": [
        "def timer(ret=False):\n",
        "    def wrapper(func):\n",
        "        def wrapped(*args):\n",
        "            start_time = time.perf_counter_ns()\n",
        "            res = func(*args)\n",
        "            ms = (time.perf_counter_ns() - start_time) * 1e-6\n",
        "\n",
        "            if ret:\n",
        "                return res, ms\n",
        "\n",
        "            print(ms, \"ms\")\n",
        "            return res\n",
        "\n",
        "        return wrapped\n",
        "\n",
        "    return wrapper"
      ],
      "metadata": {
        "id": "Rb8Yo3Ws-map"
      },
      "execution_count": 7,
      "outputs": []
    },
    {
      "cell_type": "code",
      "source": [
        "def make_qubo(costs, weights, max_weight):\n",
        "    q = defaultdict(int)\n",
        "    A = 2\n",
        "    for i in range(len(weights)):\n",
        "        if i < len(costs):\n",
        "            q[(i, i)] += A * weights[i] * (weights[i] - 2 * max_weight) - costs[i]\n",
        "        else:\n",
        "            q[(i, i)] += A * weights[i] * (weights[i] - 2 * max_weight)\n",
        "        for j in range(i + 1, len(weights)):\n",
        "            q[(i, j)] += 2 * A * weights[i] * weights[j]\n",
        "    return q\n",
        "\n",
        "def solve_qubo(costs, weights, max_weight):\n",
        "    q = make_qubo(costs, weights, max_weight)\n",
        "\n",
        "    sampler = SimulatedAnnealingSampler()\n",
        "    sampleset = sampler.sample_qubo(q)\n",
        "\n",
        "    ans = sampleset.first.sample\n",
        "    ans_array = [ans[i] for i in range(len(costs))]\n",
        "    ans_weight = sum([ans_array[i] * weights[i] for i in range(len(costs))])\n",
        "    ans_cost = sum([ans_array[i] * costs[i] for i in range(len(costs))])\n",
        "\n",
        "    return ans_array, ans_weight, ans_cost"
      ],
      "metadata": {
        "id": "lh8QLZ6bpunv"
      },
      "execution_count": 8,
      "outputs": []
    },
    {
      "cell_type": "code",
      "source": [
        "# 5\n",
        "# 8 47 10 5 16\n",
        "# 3 11 14 19 5\n",
        "# 26\n",
        "\n",
        "num_items = int(input())\n",
        "costs = list(map(int, input().split()))\n",
        "weights = list(map(int, input().split()))\n",
        "max_weight = int(input())\n",
        "\n",
        "n = round(np.ceil(np.log2(max_weight)))\n",
        "weights += [2 ** i for i in range(n)]\n",
        "\n",
        "make_qubo(costs, weights, max_weight)\n",
        "\n",
        "ans_array, ans_weight, ans_cost = solve_qubo(costs, weights, max_weight);\n",
        "\n",
        "print('Found vector: ', *ans_array)\n",
        "print('Total cost: ', ans_cost)\n",
        "print('Total weight: ', ans_weight)"
      ],
      "metadata": {
        "colab": {
          "base_uri": "https://localhost:8080/"
        },
        "id": "JZ0GIYPJ-vaz",
        "outputId": "d72cd98b-b993-4206-ef2a-8a317e0f37f5"
      },
      "execution_count": 9,
      "outputs": [
        {
          "output_type": "stream",
          "name": "stdout",
          "text": [
            "5\n",
            "8 47 10 5 16\n",
            "3 11 14 19 5\n",
            "26\n",
            "Found vector:  0 1 0 0 0\n",
            "Total cost:  47\n",
            "Total weight:  11\n"
          ]
        }
      ]
    },
    {
      "cell_type": "code",
      "source": [
        "def visualize(ans_array, ans_weight, ans_cost):\n",
        "    G = nx.Graph()\n",
        "\n",
        "    items = [i for i in range(num_items)]\n",
        "    count = len(items)\n",
        "    items_in_backpack = [items[i] for i in range(count) if ans_array[i]]\n",
        "\n",
        "    G.add_nodes_from(items)\n",
        "\n",
        "    options = {\n",
        "        'node_color': Spectral[5],  # first 5 colors from the Spectral palette\n",
        "        'node_size': 500,\n",
        "        'width': 2,\n",
        "        'arrowstyle': '-|>',\n",
        "        'arrowsize': 18,\n",
        "    }\n",
        "    if len(items_in_backpack) > 1:\n",
        "        edges = [(items_in_backpack[i], items_in_backpack[i + 1]) for i in range(-1, len(items_in_backpack) - 1)]\n",
        "        G.add_edges_from(edges)\n",
        "\n",
        "    nx.draw(G, with_labels=True, **options)\n",
        "    plt.show()"
      ],
      "metadata": {
        "id": "ZtgNSyG-HVlG"
      },
      "execution_count": 19,
      "outputs": []
    },
    {
      "cell_type": "code",
      "source": [
        "# 5\n",
        "# 8 47 10 5 16\n",
        "# 3 11 14 19 5\n",
        "# 26\n",
        "\n",
        "num_items = int(input())\n",
        "costs = list(map(int, input().split()))\n",
        "weights = list(map(int, input().split()))\n",
        "max_weight = int(input())\n",
        "\n",
        "n = round(np.ceil(np.log2(max_weight)))\n",
        "weights += [2 ** i for i in range(n)]\n",
        "\n",
        "make_qubo(costs, weights, max_weight)"
      ],
      "metadata": {
        "id": "Vq-eOzjYKzV3"
      },
      "execution_count": null,
      "outputs": []
    },
    {
      "cell_type": "code",
      "source": [
        "ans_array, ans_weight, ans_cost = timer()(solve_qubo)(costs, weights, max_weight)"
      ],
      "metadata": {
        "colab": {
          "base_uri": "https://localhost:8080/"
        },
        "id": "FXgUCXayLUJI",
        "outputId": "a06c34a6-7fc6-41c0-a5e5-e2dcb5d4af97"
      },
      "execution_count": 22,
      "outputs": [
        {
          "output_type": "stream",
          "name": "stdout",
          "text": [
            "680.249495 ms\n"
          ]
        }
      ]
    },
    {
      "cell_type": "code",
      "source": [
        "visualize(ans_array, ans_weight, ans_cost)"
      ],
      "metadata": {
        "id": "0TOQOc07OQCN"
      },
      "execution_count": null,
      "outputs": []
    }
  ]
}