{
  "nbformat": 4,
  "nbformat_minor": 0,
  "metadata": {
    "colab": {
      "provenance": []
    },
    "kernelspec": {
      "name": "python3",
      "display_name": "Python 3"
    },
    "language_info": {
      "name": "python"
    }
  },
  "cells": [
    {
      "cell_type": "markdown",
      "source": [
        "#Installing and Importing Packages"
      ],
      "metadata": {
        "id": "Ak0gHmLKdKbf"
      }
    },
    {
      "cell_type": "code",
      "source": [
        "!pip install dwave.system\n",
        "!pip install dwave.cloud\n",
        "!pip install dwave.samplers"
      ],
      "metadata": {
        "id": "GFtXHUx_aZfK",
        "colab": {
          "base_uri": "https://localhost:8080/"
        },
        "outputId": "f9b62385-907f-4952-ec37-563ab123d574"
      },
      "execution_count": 8,
      "outputs": [
        {
          "output_type": "stream",
          "name": "stdout",
          "text": [
            "Requirement already satisfied: dwave.system in /usr/local/lib/python3.10/dist-packages (1.24.0)\n",
            "Requirement already satisfied: dimod<0.14.0,>=0.12.7 in /usr/local/lib/python3.10/dist-packages (from dwave.system) (0.12.14)\n",
            "Requirement already satisfied: dwave-cloud-client<0.13.0,>=0.11.0 in /usr/local/lib/python3.10/dist-packages (from dwave.system) (0.11.4)\n",
            "Requirement already satisfied: dwave-networkx>=0.8.10 in /usr/local/lib/python3.10/dist-packages (from dwave.system) (0.8.14)\n",
            "Requirement already satisfied: dwave-preprocessing>=0.5.0 in /usr/local/lib/python3.10/dist-packages (from dwave.system) (0.6.5)\n",
            "Requirement already satisfied: homebase<2.0.0,>=1.0.0 in /usr/local/lib/python3.10/dist-packages (from dwave.system) (1.0.1)\n",
            "Requirement already satisfied: minorminer<0.3.0,>=0.2.8 in /usr/local/lib/python3.10/dist-packages (from dwave.system) (0.2.13)\n",
            "Requirement already satisfied: numpy>=1.21.6 in /usr/local/lib/python3.10/dist-packages (from dwave.system) (1.25.2)\n",
            "Requirement already satisfied: dwave-samplers>=1.0.0 in /usr/local/lib/python3.10/dist-packages (from dwave.system) (1.2.0)\n",
            "Requirement already satisfied: scipy>=1.7.3 in /usr/local/lib/python3.10/dist-packages (from dwave.system) (1.11.4)\n",
            "Requirement already satisfied: requests[socks]<3,>=2.25 in /usr/local/lib/python3.10/dist-packages (from dwave-cloud-client<0.13.0,>=0.11.0->dwave.system) (2.31.0)\n",
            "Requirement already satisfied: urllib3<3,>=1.26 in /usr/local/lib/python3.10/dist-packages (from dwave-cloud-client<0.13.0,>=0.11.0->dwave.system) (2.0.7)\n",
            "Requirement already satisfied: pydantic<3,>=2 in /usr/local/lib/python3.10/dist-packages (from dwave-cloud-client<0.13.0,>=0.11.0->dwave.system) (2.7.1)\n",
            "Requirement already satisfied: click<9,>=7.0 in /usr/local/lib/python3.10/dist-packages (from dwave-cloud-client<0.13.0,>=0.11.0->dwave.system) (8.1.7)\n",
            "Requirement already satisfied: python-dateutil<3,>=2.7 in /usr/local/lib/python3.10/dist-packages (from dwave-cloud-client<0.13.0,>=0.11.0->dwave.system) (2.8.2)\n",
            "Requirement already satisfied: plucky<0.5,>=0.4.3 in /usr/local/lib/python3.10/dist-packages (from dwave-cloud-client<0.13.0,>=0.11.0->dwave.system) (0.4.3)\n",
            "Requirement already satisfied: diskcache<6,>=5.2.1 in /usr/local/lib/python3.10/dist-packages (from dwave-cloud-client<0.13.0,>=0.11.0->dwave.system) (5.6.3)\n",
            "Requirement already satisfied: packaging>=19 in /usr/local/lib/python3.10/dist-packages (from dwave-cloud-client<0.13.0,>=0.11.0->dwave.system) (24.0)\n",
            "Requirement already satisfied: werkzeug<4,>=2.2 in /usr/local/lib/python3.10/dist-packages (from dwave-cloud-client<0.13.0,>=0.11.0->dwave.system) (3.0.3)\n",
            "Requirement already satisfied: typing-extensions<5,>=4.5.0 in /usr/local/lib/python3.10/dist-packages (from dwave-cloud-client<0.13.0,>=0.11.0->dwave.system) (4.11.0)\n",
            "Requirement already satisfied: authlib<2,>=1.2 in /usr/local/lib/python3.10/dist-packages (from dwave-cloud-client<0.13.0,>=0.11.0->dwave.system) (1.3.0)\n",
            "Requirement already satisfied: importlib-metadata>=5.0.0 in /usr/local/lib/python3.10/dist-packages (from dwave-cloud-client<0.13.0,>=0.11.0->dwave.system) (7.1.0)\n",
            "Requirement already satisfied: networkx>=2.4 in /usr/local/lib/python3.10/dist-packages (from dwave-networkx>=0.8.10->dwave.system) (3.3)\n",
            "Requirement already satisfied: fasteners>=0.15 in /usr/local/lib/python3.10/dist-packages (from minorminer<0.3.0,>=0.2.8->dwave.system) (0.19)\n",
            "Requirement already satisfied: rectangle-packer>=2.0.1 in /usr/local/lib/python3.10/dist-packages (from minorminer<0.3.0,>=0.2.8->dwave.system) (2.0.2)\n",
            "Requirement already satisfied: cryptography in /usr/local/lib/python3.10/dist-packages (from authlib<2,>=1.2->dwave-cloud-client<0.13.0,>=0.11.0->dwave.system) (42.0.7)\n",
            "Requirement already satisfied: zipp>=0.5 in /usr/local/lib/python3.10/dist-packages (from importlib-metadata>=5.0.0->dwave-cloud-client<0.13.0,>=0.11.0->dwave.system) (3.18.1)\n",
            "Requirement already satisfied: annotated-types>=0.4.0 in /usr/local/lib/python3.10/dist-packages (from pydantic<3,>=2->dwave-cloud-client<0.13.0,>=0.11.0->dwave.system) (0.6.0)\n",
            "Requirement already satisfied: pydantic-core==2.18.2 in /usr/local/lib/python3.10/dist-packages (from pydantic<3,>=2->dwave-cloud-client<0.13.0,>=0.11.0->dwave.system) (2.18.2)\n",
            "Requirement already satisfied: six>=1.5 in /usr/local/lib/python3.10/dist-packages (from python-dateutil<3,>=2.7->dwave-cloud-client<0.13.0,>=0.11.0->dwave.system) (1.16.0)\n",
            "Requirement already satisfied: charset-normalizer<4,>=2 in /usr/local/lib/python3.10/dist-packages (from requests[socks]<3,>=2.25->dwave-cloud-client<0.13.0,>=0.11.0->dwave.system) (3.3.2)\n",
            "Requirement already satisfied: idna<4,>=2.5 in /usr/local/lib/python3.10/dist-packages (from requests[socks]<3,>=2.25->dwave-cloud-client<0.13.0,>=0.11.0->dwave.system) (3.7)\n",
            "Requirement already satisfied: certifi>=2017.4.17 in /usr/local/lib/python3.10/dist-packages (from requests[socks]<3,>=2.25->dwave-cloud-client<0.13.0,>=0.11.0->dwave.system) (2024.2.2)\n",
            "Requirement already satisfied: PySocks!=1.5.7,>=1.5.6 in /usr/local/lib/python3.10/dist-packages (from requests[socks]<3,>=2.25->dwave-cloud-client<0.13.0,>=0.11.0->dwave.system) (1.7.1)\n",
            "Requirement already satisfied: MarkupSafe>=2.1.1 in /usr/local/lib/python3.10/dist-packages (from werkzeug<4,>=2.2->dwave-cloud-client<0.13.0,>=0.11.0->dwave.system) (2.1.5)\n",
            "Requirement already satisfied: cffi>=1.12 in /usr/local/lib/python3.10/dist-packages (from cryptography->authlib<2,>=1.2->dwave-cloud-client<0.13.0,>=0.11.0->dwave.system) (1.16.0)\n",
            "Requirement already satisfied: pycparser in /usr/local/lib/python3.10/dist-packages (from cffi>=1.12->cryptography->authlib<2,>=1.2->dwave-cloud-client<0.13.0,>=0.11.0->dwave.system) (2.22)\n",
            "\u001b[31mERROR: Could not find a version that satisfies the requirement dwave.cloud (from versions: none)\u001b[0m\u001b[31m\n",
            "\u001b[0m\u001b[31mERROR: No matching distribution found for dwave.cloud\u001b[0m\u001b[31m\n",
            "\u001b[0mRequirement already satisfied: dwave.samplers in /usr/local/lib/python3.10/dist-packages (1.2.0)\n",
            "Requirement already satisfied: numpy<2.0.0,>=1.19.0 in /usr/local/lib/python3.10/dist-packages (from dwave.samplers) (1.25.2)\n",
            "Requirement already satisfied: dimod<0.13.0,>=0.12.0 in /usr/local/lib/python3.10/dist-packages (from dwave.samplers) (0.12.14)\n",
            "Requirement already satisfied: networkx>=2.4.0 in /usr/local/lib/python3.10/dist-packages (from dwave.samplers) (3.3)\n"
          ]
        }
      ]
    },
    {
      "cell_type": "code",
      "source": [
        "import numpy as np\n",
        "from collections import defaultdict\n",
        "from dimod import SimulatedAnnealingSampler\n",
        "import random\n",
        "import time\n",
        "import networkx as nx\n",
        "import matplotlib.pyplot as plt\n",
        "from bokeh.palettes import Spectral"
      ],
      "metadata": {
        "id": "hM-qfdRDe7y7"
      },
      "execution_count": 9,
      "outputs": []
    },
    {
      "cell_type": "markdown",
      "source": [
        "# Постановка задачи\n",
        "Есть n предметов и рюкзак, вместимоси capacity. У каждого есть вес и стоимость. Наша задача - максимизировать стоимость предметов, при этом не превосходя capacity."
      ],
      "metadata": {
        "id": "ryiaxvvUGWXg"
      }
    },
    {
      "cell_type": "markdown",
      "source": [
        "#Brute Force - полный перебор решений\n",
        "Асимптотика O(2^N), где N - число предметов"
      ],
      "metadata": {
        "id": "mKX06QhWdSMO"
      }
    },
    {
      "cell_type": "code",
      "source": [
        "items_values = {\"⚽️\": 8, \"💻\": 47, \"📸\": 10, \"📚\": 5, \"🎸\": 16}\n",
        "values_list = [8, 47, 10, 5, 16]\n",
        "\n",
        "items_weight = {\"⚽️\": 3, \"💻\": 11, \"📸\": 14, \"📚\": 19, \"🎸\": 5}\n",
        "weights_list = [3, 11, 14, 19, 5]\n",
        "\n",
        "maximum_weight = 26\n",
        "\n",
        "items_values = {\"⚽️\": 10, \"💻\": 10, \"📸\": 10, \"📚\": 10, \"🎸\": 10}"
      ],
      "metadata": {
        "id": "jz2A14V0jnUn"
      },
      "execution_count": 10,
      "outputs": []
    },
    {
      "cell_type": "code",
      "source": [
        "def sum_weight(bitstring, items_weight):\n",
        "    weight = 0\n",
        "    for n, i in enumerate(items_weight):\n",
        "        if bitstring[n] == \"1\":\n",
        "            weight += i\n",
        "    return weight\n",
        "\n",
        "\n",
        "def sum_values(bitstring, items_value):\n",
        "    value = 0\n",
        "    for n, i in enumerate(items_value):\n",
        "        if bitstring[n] == \"1\":\n",
        "            value += i\n",
        "    return value\n",
        "\n",
        "items = list(items_values.keys())\n",
        "n_items = len(items)\n",
        "combinations = {}\n",
        "max_value = 0\n",
        "for case_i in range(2**n_items):  # all possible options\n",
        "    combinations[case_i] = {}\n",
        "    bitstring = np.binary_repr(\n",
        "        case_i, n_items\n",
        "    )  # bitstring representation of a possible combination, e.g, \"01100\" in our problem means bringing (-💻📸--)\n",
        "    combinations[case_i][\"items\"] = [items[n] for n, i in enumerate(bitstring) if i == \"1\"]\n",
        "    combinations[case_i][\"value\"] = sum_values(bitstring, values_list)\n",
        "    combinations[case_i][\"weight\"] = sum_values(bitstring, weights_list)\n",
        "    # save the information of the optimal solution (the one that maximizes the value while respecting the maximum weight)\n",
        "    if (\n",
        "        combinations[case_i][\"value\"] > max_value\n",
        "        and combinations[case_i][\"weight\"] <= maximum_weight\n",
        "    ):\n",
        "        max_value = combinations[case_i][\"value\"]\n",
        "        optimal_solution = {\n",
        "            \"items\": combinations[case_i][\"items\"],\n",
        "            \"value\": combinations[case_i][\"value\"],\n",
        "            \"weight\": combinations[case_i][\"weight\"],\n",
        "        }\n",
        "\n",
        "\n",
        "print(\n",
        "    f\"The best combination is {optimal_solution['items']} with a total value: {optimal_solution['value']} and total weight {optimal_solution['weight']} \"\n",
        ")"
      ],
      "metadata": {
        "colab": {
          "base_uri": "https://localhost:8080/"
        },
        "id": "uc95Cz9hd4O2",
        "outputId": "e29d5402-a1b3-480b-e79c-cf889ecc122c"
      },
      "execution_count": 11,
      "outputs": [
        {
          "output_type": "stream",
          "name": "stdout",
          "text": [
            "The best combination is ['⚽️', '💻', '🎸'] with a total value: 71 and total weight 19 \n"
          ]
        }
      ]
    },
    {
      "cell_type": "markdown",
      "source": [
        "# DP Soluton\n",
        "решение, использующее динамическое программирование.\n",
        "\n",
        "Асимптотика O(СN), где С - capacity, N - количество предметов\n",
        "\n",
        "(все веса действительные неотрицательные)"
      ],
      "metadata": {
        "id": "6FpJXFYPPGqN"
      }
    },
    {
      "cell_type": "code",
      "source": [
        "def dp_solution(num_of_items, weights, costs, capacity):\n",
        "    dp = [[0 for x in range(capacity + 1)] for x in range(num_of_items + 1)]\n",
        "\n",
        "    for i in range(num_of_items + 1):\n",
        "        for weight in range(capacity + 1):\n",
        "            if i == 0 or weight == 0:\n",
        "                dp[i][weight] = 0\n",
        "            elif weights[i - 1] <= weight:\n",
        "                dp[i][weight] = max(costs[i-1]\n",
        "                            + dp[i - 1][weight - weights[i-1]],\n",
        "                            dp[i - 1][weight])\n",
        "            else:\n",
        "                dp[i][weight] = dp[i - 1][weight]\n",
        "\n",
        "    cur_item = num_of_items\n",
        "    cur_weight = capacity\n",
        "    used_items = [0 for i in range(num_of_items)]\n",
        "    while (cur_item != 0 and cur_weight != 0):\n",
        "        if (dp[cur_item - 1][cur_weight] == dp[cur_item][cur_weight]):\n",
        "            cur_item -= 1;\n",
        "        else:\n",
        "            cur_weight -= weights[cur_item - 1]\n",
        "            used_items[cur_item - 1] = 1;\n",
        "            cur_item -= 1;\n",
        "\n",
        "    return used_items"
      ],
      "metadata": {
        "id": "WocGvIVBPK4p"
      },
      "execution_count": 12,
      "outputs": []
    },
    {
      "cell_type": "code",
      "source": [
        "# 5\n",
        "# 3 11 14 19 5\n",
        "# 8 47 10 5 16\n",
        "# 26\n",
        "\n",
        "num_of_items = int(input())\n",
        "weights = list(map(int, input().split()))\n",
        "costs = list(map(int, input().split()))\n",
        "capacity = int(input())\n",
        "used_items = dp_solution(num_of_items, weights, costs, capacity)"
      ],
      "metadata": {
        "colab": {
          "base_uri": "https://localhost:8080/"
        },
        "id": "NVo4oExSPski",
        "outputId": "2a736052-2002-4bfd-bd36-c965d2b5b6a8"
      },
      "execution_count": 13,
      "outputs": [
        {
          "name": "stdout",
          "output_type": "stream",
          "text": [
            "5\n",
            "3 11 14 19 5\n",
            "8 47 10 5 16\n",
            "26\n"
          ]
        }
      ]
    },
    {
      "cell_type": "code",
      "source": [
        "def get_result(weights, costs, used_items):\n",
        "    used_weight = sum([weights[i] * used_items[i] for i in range(len(weights))])\n",
        "    cost = sum([costs[i] * used_items[i] for i in range(len(weights))])\n",
        "    return used_weight, cost"
      ],
      "metadata": {
        "id": "vZI9FN54MXjQ"
      },
      "execution_count": 14,
      "outputs": []
    },
    {
      "cell_type": "code",
      "source": [
        "print(*get_result(weights, costs, used_items))"
      ],
      "metadata": {
        "colab": {
          "base_uri": "https://localhost:8080/"
        },
        "id": "YQWnH1EyJ6b2",
        "outputId": "05bb8d62-8b7f-48ac-f790-0cb2fbe36d1b"
      },
      "execution_count": 15,
      "outputs": [
        {
          "output_type": "stream",
          "name": "stdout",
          "text": [
            "19 71\n"
          ]
        }
      ]
    },
    {
      "cell_type": "code",
      "source": [
        "print(*used_items)"
      ],
      "metadata": {
        "colab": {
          "base_uri": "https://localhost:8080/"
        },
        "id": "odBPIC-pEZPh",
        "outputId": "a08daf55-8d3a-458c-86a9-580775013356"
      },
      "execution_count": 16,
      "outputs": [
        {
          "output_type": "stream",
          "name": "stdout",
          "text": [
            "1 1 0 0 1\n"
          ]
        }
      ]
    },
    {
      "cell_type": "markdown",
      "source": [
        "#QUBO Solution\n",
        "Решение, использующее матрицу QUBO"
      ],
      "metadata": {
        "id": "XJ-jvIzRlHIt"
      }
    },
    {
      "cell_type": "code",
      "source": [
        "def make_qubo(costs, weights, max_weight):\n",
        "    q = defaultdict(int)\n",
        "    A = 2\n",
        "    for i in range(len(weights)):\n",
        "        if i < len(costs):\n",
        "            q[(i, i)] += A * weights[i] * (weights[i] - 2 * max_weight) - costs[i]\n",
        "        else:\n",
        "            q[(i, i)] += A * weights[i] * (weights[i] - 2 * max_weight)\n",
        "        for j in range(i + 1, len(weights)):\n",
        "            q[(i, j)] += 2 * A * weights[i] * weights[j]\n",
        "    return q\n",
        "\n",
        "def solve_qubo(costs, weights, max_weight):\n",
        "    q = make_qubo(costs, weights, max_weight)\n",
        "\n",
        "    sampler = SimulatedAnnealingSampler()\n",
        "    sampleset = sampler.sample_qubo(q)\n",
        "\n",
        "    ans = sampleset.first.sample\n",
        "    ans_array = [ans[i] for i in range(len(costs))]\n",
        "    ans_weight = sum([ans_array[i] * weights[i] for i in range(len(costs))])\n",
        "    ans_cost = sum([ans_array[i] * costs[i] for i in range(len(costs))])\n",
        "\n",
        "    return ans_array"
      ],
      "metadata": {
        "id": "lh8QLZ6bpunv"
      },
      "execution_count": 19,
      "outputs": []
    },
    {
      "cell_type": "markdown",
      "source": [
        "# Utils"
      ],
      "metadata": {
        "id": "aRckcbBfTA5o"
      }
    },
    {
      "cell_type": "code",
      "source": [
        "def timer(ret=False):\n",
        "    def wrapper(func):\n",
        "        def wrapped(*args):\n",
        "            start_time = time.perf_counter_ns()\n",
        "            res = func(*args)\n",
        "            ms = (time.perf_counter_ns() - start_time) * 1e-6\n",
        "\n",
        "            if ret:\n",
        "                return res, ms\n",
        "\n",
        "            print(ms, \"ms\")\n",
        "            return res\n",
        "\n",
        "        return wrapped\n",
        "\n",
        "    return wrapper"
      ],
      "metadata": {
        "id": "1s8H1YEKTC7e"
      },
      "execution_count": null,
      "outputs": []
    },
    {
      "cell_type": "markdown",
      "source": [
        "# Тесты"
      ],
      "metadata": {
        "id": "jpX-lPrZTGrB"
      }
    },
    {
      "cell_type": "code",
      "source": [
        "# 5\n",
        "# 8 47 10 5 16\n",
        "# 3 11 14 19 5\n",
        "# 26\n",
        "\n",
        "num_items = int(input())\n",
        "costs = list(map(int, input().split()))\n",
        "weights = list(map(int, input().split()))\n",
        "capacity = int(input())\n",
        "\n",
        "solve_qubo(costs, weights, capacity)"
      ],
      "metadata": {
        "id": "Vq-eOzjYKzV3",
        "colab": {
          "base_uri": "https://localhost:8080/"
        },
        "outputId": "4de8ce1c-9415-4f30-fb25-c3d4237a600e"
      },
      "execution_count": 23,
      "outputs": [
        {
          "name": "stdout",
          "output_type": "stream",
          "text": [
            "5\n",
            "8 47 10 5 16\n",
            "3 11 10 5 16\n",
            "26\n"
          ]
        },
        {
          "output_type": "execute_result",
          "data": {
            "text/plain": [
              "[0, 1, 1, 1, 0]"
            ]
          },
          "metadata": {},
          "execution_count": 23
        }
      ]
    },
    {
      "cell_type": "code",
      "source": [
        "ans_cost, time = timer(True)(solve_qubo)(costs, weights, capacity)"
      ],
      "metadata": {
        "id": "FXgUCXayLUJI"
      },
      "execution_count": null,
      "outputs": []
    },
    {
      "cell_type": "code",
      "source": [
        "time, ans_cost = timer(True)(dp_solution)(num_of_items, weights, costs, max_weight)"
      ],
      "metadata": {
        "id": "Kn53ZyFuQ-06"
      },
      "execution_count": null,
      "outputs": []
    },
    {
      "cell_type": "code",
      "source": [
        "print(ans_cost)"
      ],
      "metadata": {
        "id": "FZ5gsplUQSQD"
      },
      "execution_count": null,
      "outputs": []
    },
    {
      "cell_type": "code",
      "source": [
        "def tests():\n",
        "    for num_of_items in range(2, 100):\n",
        "        accuracy = 0\n",
        "        num_of_tests = 10\n",
        "        qubo_time = 0\n",
        "        dp_time = 0\n",
        "        for test in range(num_of_tests):\n",
        "            costs = [random.randint(1, num_of_items) for i in range(num_of_items)]\n",
        "            weights = [random.randint(1, num_of_items) for i in range(num_of_items)]\n",
        "            capacity = num_of_items * random.randint(1, num_of_items / 2)\n",
        "            dp_ans, time = timer(True)(dp_solution)(num_of_items, weights, costs, capacity)\n",
        "            dp_time += time\n",
        "            qubo_ans, time = timer(True)(solve_qubo)(costs, weights, capacity)\n",
        "            qubo_time += time\n",
        "            if (all(dp_ans == qubo_ans)):\n",
        "                accuracy += 1\n",
        "        accuracy /= num_of_tests\n",
        "        print(num_of_items, accuracy, \"qubo_time = \", qubo_time, \"dp_time = \", dp_time)"
      ],
      "metadata": {
        "id": "9N4zaqVOSJgj"
      },
      "execution_count": null,
      "outputs": []
    },
    {
      "cell_type": "code",
      "source": [
        "tests()"
      ],
      "metadata": {
        "id": "Z3SiKXBxOHCQ"
      },
      "execution_count": null,
      "outputs": []
    }
  ]
}