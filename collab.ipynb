{
  "nbformat": 4,
  "nbformat_minor": 0,
  "metadata": {
    "colab": {
      "provenance": []
    },
    "kernelspec": {
      "name": "python3",
      "display_name": "Python 3"
    },
    "language_info": {
      "name": "python"
    }
  },
  "cells": [
    {
      "cell_type": "markdown",
      "source": [
        "#Installing and Importing Packages"
      ],
      "metadata": {
        "id": "Ak0gHmLKdKbf"
      }
    },
    {
      "cell_type": "code",
      "source": [
        "!pip install dwave.system\n",
        "!pip install dwave.cloud\n",
        "!pip install dwave.samplers"
      ],
      "metadata": {
        "id": "GFtXHUx_aZfK"
      },
      "execution_count": null,
      "outputs": []
    },
    {
      "cell_type": "code",
      "source": [
        "import numpy as np\n",
        "from collections import defaultdict\n",
        "from dimod import SimulatedAnnealingSampler\n",
        "import random"
      ],
      "metadata": {
        "id": "hM-qfdRDe7y7"
      },
      "execution_count": 2,
      "outputs": []
    },
    {
      "cell_type": "markdown",
      "source": [
        "# Постановка задачи\n",
        "Есть n предметов и рюкзак. У каждого есть вес и стоимость. Наша задача - максимизировать стоимость предметов"
      ],
      "metadata": {
        "id": "ryiaxvvUGWXg"
      }
    },
    {
      "cell_type": "markdown",
      "source": [
        "#Brute Force"
      ],
      "metadata": {
        "id": "mKX06QhWdSMO"
      }
    },
    {
      "cell_type": "code",
      "source": [
        "# items_values = {\"⚽️\": 8, \"💻\": 47, \"📸\": 10, \"📚\": 5, \"🎸\": 16}\n",
        "# values_list = [8, 47, 10, 5, 16]\n",
        "\n",
        "# items_weight = {\"⚽️\": 3, \"💻\": 11, \"📸\": 14, \"📚\": 19, \"🎸\": 5}\n",
        "# weights_list = [3, 11, 14, 19, 5]\n",
        "\n",
        "# maximum_weight = 26\n",
        "\n",
        "# items_values = {\"⚽️\": 10, \"💻\": 10, \"📸\": 10, \"📚\": 10, \"🎸\": 10}\n",
        "items_values = {i : i for i in range(random.randint(0, 10))}\n",
        "values_list = [items_values[i] for i in range(len(items_values))]\n",
        "\n",
        "items_weight = {i : i for i in range(random.randint(0, 10))}\n",
        "weights_list = [items_values[i] for i in range(len(items_values))]\n",
        "\n",
        "print(*values_list)\n",
        "print(*weights_list)\n",
        "\n",
        "maximum_weight = 50"
      ],
      "metadata": {
        "id": "jz2A14V0jnUn",
        "outputId": "685164f8-ec57-4ee9-ef74-efb64757ea30",
        "colab": {
          "base_uri": "https://localhost:8080/"
        }
      },
      "execution_count": 3,
      "outputs": [
        {
          "output_type": "stream",
          "name": "stdout",
          "text": [
            "0 1 2 3 4 5 6 7 8\n",
            "0 1 2 3 4 5 6 7 8\n"
          ]
        }
      ]
    },
    {
      "cell_type": "code",
      "source": [
        "def sum_weight(bitstring, items_weight):\n",
        "    weight = 0\n",
        "    for n, i in enumerate(items_weight):\n",
        "        if bitstring[n] == \"1\":\n",
        "            weight += i\n",
        "    return weight\n",
        "\n",
        "\n",
        "def sum_values(bitstring, items_value):\n",
        "    value = 0\n",
        "    for n, i in enumerate(items_value):\n",
        "        if bitstring[n] == \"1\":\n",
        "            value += i\n",
        "    return value\n",
        "\n",
        "items = list(items_values.keys())\n",
        "n_items = len(items)\n",
        "combinations = {}\n",
        "max_value = 0\n",
        "for case_i in range(2**n_items):  # all possible options\n",
        "    combinations[case_i] = {}\n",
        "    bitstring = np.binary_repr(\n",
        "        case_i, n_items\n",
        "    )  # bitstring representation of a possible combination, e.g, \"01100\" in our problem means bringing (-💻📸--)\n",
        "    combinations[case_i][\"items\"] = [items[n] for n, i in enumerate(bitstring) if i == \"1\"]\n",
        "    combinations[case_i][\"value\"] = sum_values(bitstring, values_list)\n",
        "    combinations[case_i][\"weight\"] = sum_values(bitstring, weights_list)\n",
        "    # save the information of the optimal solution (the one that maximizes the value while respecting the maximum weight)\n",
        "    if (\n",
        "        combinations[case_i][\"value\"] > max_value\n",
        "        and combinations[case_i][\"weight\"] <= maximum_weight\n",
        "    ):\n",
        "        max_value = combinations[case_i][\"value\"]\n",
        "        optimal_solution = {\n",
        "            \"items\": combinations[case_i][\"items\"],\n",
        "            \"value\": combinations[case_i][\"value\"],\n",
        "            \"weight\": combinations[case_i][\"weight\"],\n",
        "        }\n",
        "\n",
        "\n",
        "print(\n",
        "    f\"The best combination is {optimal_solution['items']} with a total value: {optimal_solution['value']} and total weight {optimal_solution['weight']} \"\n",
        ")"
      ],
      "metadata": {
        "colab": {
          "base_uri": "https://localhost:8080/"
        },
        "id": "uc95Cz9hd4O2",
        "outputId": "e128fd57-b691-4c92-c469-dd9025cf385f"
      },
      "execution_count": 4,
      "outputs": [
        {
          "output_type": "stream",
          "name": "stdout",
          "text": [
            "The best combination is [1, 2, 3, 4, 5, 6, 7, 8] with a total value: 36 and total weight 36 \n"
          ]
        }
      ]
    },
    {
      "cell_type": "code",
      "source": [
        "# def time_to_solution(n, time_single_case):\n",
        "#     \"\"\"\n",
        "#         n (int): number of variables\n",
        "#         time_single_case (float): time to solve a single case\n",
        "#     \"\"\"\n",
        "#     return time_single_case * 2 ** n\n",
        "\n",
        "# time_per_case = 1e-9 # time to execute a single case in seconds\n",
        "# sec_day = 3600 * 24 # seconds in a day\n",
        "# sec_year = sec_day * 365 # seconds in a year\n",
        "\n",
        "# print(\n",
        "#     f\"- For 10 items, 2^10 cases, we need {time_to_solution(2, time_per_case)} seconds.\"\n",
        "# )"
      ],
      "metadata": {
        "id": "M5Khp6e-j2Id"
      },
      "execution_count": 5,
      "outputs": []
    },
    {
      "cell_type": "markdown",
      "source": [
        "#QUBO Solution"
      ],
      "metadata": {
        "id": "XJ-jvIzRlHIt"
      }
    },
    {
      "cell_type": "code",
      "source": [
        "items_values = {\"⚽️\": 8, \"💻\": 47, \"📸\": 10, \"📚\": 5, \"🎸\": 16}\n",
        "values_list = [8, 47, 10, 5, 16]\n",
        "\n",
        "items_weight = {\"⚽️\": 3, \"💻\": 11, \"📸\": 14, \"📚\": 19, \"🎸\": 5}\n",
        "weights_list = [3, 11, 14, 19, 5]\n",
        "\n",
        "max_weight = 26"
      ],
      "metadata": {
        "id": "AwyQ_GKoltA1"
      },
      "execution_count": 6,
      "outputs": []
    },
    {
      "cell_type": "code",
      "source": [
        "def timer(ret=False):\n",
        "    def wrapper(func):\n",
        "        def wrapped(*args):\n",
        "            start_time = time.perf_counter_ns()\n",
        "            res = func(*args)\n",
        "            ms = (time.perf_counter_ns() - start_time) * 1e-6\n",
        "\n",
        "            if ret:\n",
        "                return res, ms\n",
        "\n",
        "            print(ms, \"ms\")\n",
        "            return res\n",
        "\n",
        "        return wrapped\n",
        "\n",
        "    return wrapper"
      ],
      "metadata": {
        "id": "Rb8Yo3Ws-map"
      },
      "execution_count": 7,
      "outputs": []
    },
    {
      "cell_type": "code",
      "source": [
        "def make_qubo(costs, weights, max_weight):\n",
        "    q = defaultdict(int)\n",
        "    A = 2\n",
        "    for i in range(len(weights)):\n",
        "        if i < len(costs):\n",
        "            q[(i, i)] += A * weights[i] * (weights[i] - 2 * max_weight) - costs[i]\n",
        "        else:\n",
        "            q[(i, i)] += A * weights[i] * (weights[i] - 2 * max_weight)\n",
        "        for j in range(i + 1, len(weights)):\n",
        "            q[(i, j)] += 2 * A * weights[i] * weights[j]\n",
        "    return q\n",
        "\n",
        "def solve_qubo(costs, weights, max_weight):\n",
        "    q = make_qubo(costs, weights, max_weight)\n",
        "\n",
        "    sampler = SimulatedAnnealingSampler()\n",
        "    sampleset = sampler.sample_qubo(q)\n",
        "\n",
        "    ans = sampleset.first.sample\n",
        "    ans_array = [ans[i] for i in range(len(costs))]\n",
        "    ans_weight = sum([ans_array[i] * weights[i] for i in range(len(costs))])\n",
        "    ans_cost = sum([ans_array[i] * costs[i] for i in range(len(costs))])\n",
        "\n",
        "    return ans_array, ans_weight, ans_cost"
      ],
      "metadata": {
        "id": "lh8QLZ6bpunv"
      },
      "execution_count": 8,
      "outputs": []
    },
    {
      "cell_type": "code",
      "source": [
        "# 5\n",
        "# 8 47 10 5 16\n",
        "# 3 11 14 19 5\n",
        "# 26\n",
        "\n",
        "num_items = int(input())\n",
        "costs = list(map(int, input().split()))\n",
        "weights = list(map(int, input().split()))\n",
        "max_weight = int(input())\n",
        "\n",
        "n = round(np.ceil(np.log2(max_weight)))\n",
        "weights += [2 ** i for i in range(n)]\n",
        "\n",
        "make_qubo(costs, weights, max_weight)\n",
        "\n",
        "ans_array, ans_weight, ans_cost = solve_qubo(costs, weights, max_weight);\n",
        "\n",
        "print('Found vector: ', *ans_array)\n",
        "print('Total cost: ', ans_cost)\n",
        "print('Total weight: ', ans_weight)"
      ],
      "metadata": {
        "colab": {
          "base_uri": "https://localhost:8080/"
        },
        "id": "JZ0GIYPJ-vaz",
        "outputId": "674cb087-99f3-40c6-886d-3adfed149021"
      },
      "execution_count": 9,
      "outputs": [
        {
          "output_type": "stream",
          "name": "stdout",
          "text": [
            "5\n",
            "8 47 10 5 16\n",
            "3 11 14 19 5\n",
            "26\n",
            "Found vector:  1 1 0 0 1\n",
            "Total cost:  71\n",
            "Total weight:  19\n"
          ]
        }
      ]
    },
    {
      "cell_type": "code",
      "source": [
        "import networkx as nx\n",
        "import matplotlib.pyplot as plt\n",
        "\n",
        "G = nx.Graph()\n",
        "\n",
        "items = [i for i in range(num_items)] # все предметы (необязательно int, главное, чтобы хранились в list)\n",
        "count = len(items)\n",
        "# ans_vector = list(map(int, input().split())) # ответ на задачу\n",
        "items_in_backpack = [items[i] for i in range(count) if ans_array[i]]\n",
        "\n",
        "G.add_nodes_from(items)\n",
        "\n",
        "if len(items_in_backpack) > 1:\n",
        "    edges = [(items_in_backpack[i], items_in_backpack[i + 1]) for i in range(-1, len(items_in_backpack) - 1)]\n",
        "    G.add_edges_from(edges)\n",
        "\n",
        "nx.draw_circular(G, with_labels=True)\n",
        "plt.show()"
      ],
      "metadata": {
        "id": "ZtgNSyG-HVlG",
        "outputId": "4f6f581a-f13e-4c2c-aec9-e1b1e66262b5",
        "colab": {
          "base_uri": "https://localhost:8080/",
          "height": 516
        }
      },
      "execution_count": 15,
      "outputs": [
        {
          "output_type": "display_data",
          "data": {
            "text/plain": [
              "<Figure size 640x480 with 1 Axes>"
            ],
            "image/png": "[encoded data removed]"
          },
          "metadata": {}
        }
      ]
    }
  ]
}