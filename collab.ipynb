{
  "nbformat": 4,
  "nbformat_minor": 0,
  "metadata": {
    "colab": {
      "provenance": []
    },
    "kernelspec": {
      "name": "python3",
      "display_name": "Python 3"
    },
    "language_info": {
      "name": "python"
    }
  },
  "cells": [
    {
      "cell_type": "markdown",
      "source": [
        "#Installing and Importing Packages"
      ],
      "metadata": {
        "id": "Ak0gHmLKdKbf"
      }
    },
    {
      "cell_type": "code",
      "source": [
        "!pip install dwave.system\n",
        "!pip install dwave.cloud\n",
        "!pip install dwave.samplers"
      ],
      "metadata": {
        "id": "GFtXHUx_aZfK"
      },
      "execution_count": null,
      "outputs": []
    },
    {
      "cell_type": "code",
      "source": [
        "import numpy as np\n",
        "from collections import defaultdict\n",
        "from dimod import SimulatedAnnealingSampler\n",
        "import random\n",
        "import time\n",
        "import networkx as nx\n",
        "import matplotlib.pyplot as plt\n",
        "from bokeh.palettes import Spectral\n",
        "from collections import defaultdict\n",
        "from math import floor"
      ],
      "metadata": {
        "id": "hM-qfdRDe7y7"
      },
      "execution_count": 41,
      "outputs": []
    },
    {
      "cell_type": "markdown",
      "source": [
        "# Постановка задачи\n",
        "Есть n предметов и рюкзак, вместимоси capacity. У каждого есть вес и стоимость. Наша задача - максимизировать стоимость предметов, при этом не превосходя capacity."
      ],
      "metadata": {
        "id": "ryiaxvvUGWXg"
      }
    },
    {
      "cell_type": "markdown",
      "source": [
        "#Brute Force - полный перебор решений\n",
        "Асимптотика O($2^N$), где N - число предметов"
      ],
      "metadata": {
        "id": "mKX06QhWdSMO"
      }
    },
    {
      "cell_type": "code",
      "source": [
        "items_values = {\"⚽️\": 8, \"💻\": 47, \"📸\": 10, \"📚\": 5, \"🎸\": 16}\n",
        "values_list = [8, 47, 10, 5, 16]\n",
        "\n",
        "items_weight = {\"⚽️\": 3, \"💻\": 11, \"📸\": 14, \"📚\": 19, \"🎸\": 5}\n",
        "weights_list = [3, 11, 14, 19, 5]\n",
        "\n",
        "maximum_weight = 26\n",
        "\n",
        "items_values = {\"⚽️\": 10, \"💻\": 10, \"📸\": 10, \"📚\": 10, \"🎸\": 10}"
      ],
      "metadata": {
        "id": "jz2A14V0jnUn"
      },
      "execution_count": 42,
      "outputs": []
    },
    {
      "cell_type": "code",
      "source": [
        "def sum_weight(bitstring, items_weight):\n",
        "    weight = 0\n",
        "    for n, i in enumerate(items_weight):\n",
        "        if bitstring[n] == \"1\":\n",
        "            weight += i\n",
        "    return weight\n",
        "\n",
        "\n",
        "def sum_values(bitstring, items_value):\n",
        "    value = 0\n",
        "    for n, i in enumerate(items_value):\n",
        "        if bitstring[n] == \"1\":\n",
        "            value += i\n",
        "    return value\n",
        "\n",
        "items = list(items_values.keys())\n",
        "n_items = len(items)\n",
        "combinations = {}\n",
        "max_value = 0\n",
        "for case_i in range(2**n_items):  # all possible options\n",
        "    combinations[case_i] = {}\n",
        "    bitstring = np.binary_repr(\n",
        "        case_i, n_items\n",
        "    )  # bitstring representation of a possible combination, e.g, \"01100\" in our problem means bringing (-💻📸--)\n",
        "    combinations[case_i][\"items\"] = [items[n] for n, i in enumerate(bitstring) if i == \"1\"]\n",
        "    combinations[case_i][\"value\"] = sum_values(bitstring, values_list)\n",
        "    combinations[case_i][\"weight\"] = sum_values(bitstring, weights_list)\n",
        "    # save the information of the optimal solution (the one that maximizes the value while respecting the maximum weight)\n",
        "    if (\n",
        "        combinations[case_i][\"value\"] > max_value\n",
        "        and combinations[case_i][\"weight\"] <= maximum_weight\n",
        "    ):\n",
        "        max_value = combinations[case_i][\"value\"]\n",
        "        optimal_solution = {\n",
        "            \"items\": combinations[case_i][\"items\"],\n",
        "            \"value\": combinations[case_i][\"value\"],\n",
        "            \"weight\": combinations[case_i][\"weight\"],\n",
        "        }\n",
        "\n",
        "\n",
        "print(\n",
        "    f\"The best combination is {optimal_solution['items']} with a total value: {optimal_solution['value']} and total weight {optimal_solution['weight']} \"\n",
        ")"
      ],
      "metadata": {
        "colab": {
          "base_uri": "https://localhost:8080/"
        },
        "id": "uc95Cz9hd4O2",
        "outputId": "0d810b6a-d546-43bb-d092-ce35a5970398"
      },
      "execution_count": 43,
      "outputs": [
        {
          "output_type": "stream",
          "name": "stdout",
          "text": [
            "The best combination is ['⚽️', '💻', '🎸'] with a total value: 71 and total weight 19 \n"
          ]
        }
      ]
    },
    {
      "cell_type": "markdown",
      "source": [
        "# DP Soluton\n",
        "решение, использующее динамическое программирование.\n",
        "\n",
        "Асимптотика O(СN), где С - capacity, N - количество предметов\n",
        "\n",
        "(все веса действительные неотрицательные)"
      ],
      "metadata": {
        "id": "6FpJXFYPPGqN"
      }
    },
    {
      "cell_type": "code",
      "source": [
        "def dp_solution(costs, weights, capacity):\n",
        "    num_of_items = len(weights)\n",
        "    dp = [[0 for x in range(capacity + 1)] for x in range(num_of_items + 1)]\n",
        "\n",
        "    for i in range(num_of_items + 1):\n",
        "        for weight in range(capacity + 1):\n",
        "            if i == 0 or weight == 0:\n",
        "                dp[i][weight] = 0\n",
        "            elif weights[i - 1] <= weight:\n",
        "                dp[i][weight] = max(costs[i-1]\n",
        "                            + dp[i - 1][weight - weights[i-1]],\n",
        "                            dp[i - 1][weight])\n",
        "            else:\n",
        "                dp[i][weight] = dp[i - 1][weight]\n",
        "\n",
        "    cur_item = num_of_items\n",
        "    cur_weight = capacity\n",
        "    used_items = [0 for i in range(num_of_items)]\n",
        "    while (cur_item != 0 and cur_weight != 0):\n",
        "        if (dp[cur_item - 1][cur_weight] == dp[cur_item][cur_weight]):\n",
        "            cur_item -= 1;\n",
        "        else:\n",
        "            cur_weight -= weights[cur_item - 1]\n",
        "            used_items[cur_item - 1] = 1;\n",
        "            cur_item -= 1;\n",
        "\n",
        "    return used_items"
      ],
      "metadata": {
        "id": "WocGvIVBPK4p"
      },
      "execution_count": 44,
      "outputs": []
    },
    {
      "cell_type": "markdown",
      "source": [
        "#QUBO Solution\n",
        "Решение, использующее матрицу QUBO"
      ],
      "metadata": {
        "id": "XJ-jvIzRlHIt"
      }
    },
    {
      "cell_type": "code",
      "source": [
        "def make_qubo(costs, weights, max_weight):\n",
        "    q = defaultdict(int)\n",
        "    hyper_parameter = 2\n",
        "\n",
        "    for i in range(len(weights)):\n",
        "        if i < len(costs):\n",
        "            q[(i, i)] += hyper_parameter * weights[i] * (weights[i] - 2 * max_weight) - costs[i]\n",
        "        else:\n",
        "            q[(i, i)] += hyper_parameter * weights[i] * (weights[i] - 2 * max_weight)\n",
        "\n",
        "        for j in range(i + 1, len(weights)):\n",
        "            q[(i, j)] += 2 * hyper_parameter * weights[i] * weights[j]\n",
        "\n",
        "    # lambd = 2\n",
        "    # for i in range(len(weights)):\n",
        "    #     q[(i, i)] += lambd * weights[i] * (weights[i] - 2 * maximum_weight)  # Eq. 10\n",
        "    #     for j in range(i + 1, len(weights)):\n",
        "    #         q[(i, j)] += 2 * lambd * weights[i] * weights[j]\n",
        "    return q\n",
        "\n",
        "def qubo_solution(costs, weights, max_weight):\n",
        "    q = make_qubo(costs, weights, max_weight)\n",
        "\n",
        "    sampler = SimulatedAnnealingSampler()\n",
        "    sampleset = sampler.sample_qubo(q)\n",
        "\n",
        "    ans = sampleset.first.sample\n",
        "    ans_array = [ans[i] for i in range(len(costs))]\n",
        "    ans_weight = sum([ans_array[i] * weights[i] for i in range(len(costs))])\n",
        "    ans_cost = sum([ans_array[i] * costs[i] for i in range(len(costs))])\n",
        "\n",
        "    return ans_array"
      ],
      "metadata": {
        "id": "lh8QLZ6bpunv"
      },
      "execution_count": 45,
      "outputs": []
    },
    {
      "cell_type": "markdown",
      "source": [
        "# Utils"
      ],
      "metadata": {
        "id": "aRckcbBfTA5o"
      }
    },
    {
      "cell_type": "code",
      "source": [
        "def timer(ret=False):\n",
        "    def wrapper(func):\n",
        "        def wrapped(*args):\n",
        "            start_time = time.perf_counter_ns()\n",
        "            res = func(*args)\n",
        "            ms = (time.perf_counter_ns() - start_time) * 1e-6\n",
        "\n",
        "            if ret:\n",
        "                return res, ms\n",
        "            print(ms, \"ms\")\n",
        "\n",
        "            return res\n",
        "\n",
        "        return wrapped\n",
        "\n",
        "    return wrapper"
      ],
      "metadata": {
        "id": "1s8H1YEKTC7e"
      },
      "execution_count": 46,
      "outputs": []
    },
    {
      "cell_type": "code",
      "source": [
        "def get_result(costs, weights, used_items):\n",
        "    used_weight = sum([weights[i] * used_items[i] for i in range(len(weights))])\n",
        "    cost = sum([costs[i] * used_items[i] for i in range(len(weights))])\n",
        "    return used_weight, cost"
      ],
      "metadata": {
        "id": "uBAJCW1PmT0v"
      },
      "execution_count": 47,
      "outputs": []
    },
    {
      "cell_type": "markdown",
      "source": [
        "# Тесты"
      ],
      "metadata": {
        "id": "jpX-lPrZTGrB"
      }
    },
    {
      "cell_type": "code",
      "source": [
        "\"\"\"\n",
        "Пример теста:\n",
        "8 47 10 5 16\n",
        "3 11 14 19 5\n",
        "26\n",
        "\"\"\"\n",
        "\n",
        "costs = list(map(int, input().split()))\n",
        "weights = list(map(int, input().split()))\n",
        "capacity = int(input())"
      ],
      "metadata": {
        "id": "Vq-eOzjYKzV3",
        "colab": {
          "base_uri": "https://localhost:8080/"
        },
        "outputId": "80a6735f-d4e3-4c03-ad9c-ff45ad6abe75"
      },
      "execution_count": 48,
      "outputs": [
        {
          "name": "stdout",
          "output_type": "stream",
          "text": [
            "8 47 10 5 16\n",
            "3 11 14 19 5\n",
            "26\n"
          ]
        }
      ]
    },
    {
      "cell_type": "code",
      "source": [
        "costs = [207678, 199724, 247909, 60785, 49306, 272482, 543, 290570, 328346]\n",
        "weights = [332860, 290562, 286955, 109302, 300472, 244507, 233919, 208000, 226560]\n",
        "capacity = 1221516"
      ],
      "metadata": {
        "id": "x5E-F40cP5c3"
      },
      "execution_count": 49,
      "outputs": []
    },
    {
      "cell_type": "code",
      "source": [
        "bin_ans, time_ = timer(True)(qubo_solution)(costs, weights, capacity)"
      ],
      "metadata": {
        "id": "FXgUCXayLUJI"
      },
      "execution_count": 50,
      "outputs": []
    },
    {
      "cell_type": "code",
      "source": [
        "print(bin_ans)\n",
        "time_"
      ],
      "metadata": {
        "id": "FZ5gsplUQSQD",
        "outputId": "fb51e304-6df3-408c-e943-baa9bd2954bb",
        "colab": {
          "base_uri": "https://localhost:8080/"
        }
      },
      "execution_count": 51,
      "outputs": [
        {
          "output_type": "stream",
          "name": "stdout",
          "text": [
            "[0, 0, 0, 0, 1, 1, 1, 1, 1]\n"
          ]
        },
        {
          "output_type": "execute_result",
          "data": {
            "text/plain": [
              "1315.848389"
            ]
          },
          "metadata": {},
          "execution_count": 51
        }
      ]
    },
    {
      "cell_type": "code",
      "source": [
        "get_result(costs, weights, bin_ans)"
      ],
      "metadata": {
        "id": "NEwkO_Cnourv",
        "outputId": "6562ffec-14d3-4f2e-9af8-eecad9b6c866",
        "colab": {
          "base_uri": "https://localhost:8080/"
        }
      },
      "execution_count": 52,
      "outputs": [
        {
          "output_type": "execute_result",
          "data": {
            "text/plain": [
              "(1213458, 941247)"
            ]
          },
          "metadata": {},
          "execution_count": 52
        }
      ]
    },
    {
      "cell_type": "code",
      "source": [
        "bin_ans, time_ = timer(True)(dp_solution)(costs, weights, capacity)"
      ],
      "metadata": {
        "id": "6fl2e3oWoC6A"
      },
      "execution_count": 53,
      "outputs": []
    },
    {
      "cell_type": "code",
      "source": [
        "print(bin_ans)\n",
        "time_"
      ],
      "metadata": {
        "id": "qrMqUAsvoMZ_",
        "outputId": "533933fd-b0ee-4e86-9f3b-9eab4e1734dd",
        "colab": {
          "base_uri": "https://localhost:8080/"
        }
      },
      "execution_count": 54,
      "outputs": [
        {
          "output_type": "stream",
          "name": "stdout",
          "text": [
            "[0, 0, 1, 1, 0, 1, 0, 1, 1]\n"
          ]
        },
        {
          "output_type": "execute_result",
          "data": {
            "text/plain": [
              "10189.258065"
            ]
          },
          "metadata": {},
          "execution_count": 54
        }
      ]
    },
    {
      "cell_type": "code",
      "source": [
        "get_result(costs, weights, bin_ans)"
      ],
      "metadata": {
        "id": "pfVFjOCbock3",
        "outputId": "548ae0fc-5c63-4c03-f886-70c5b365d2ae",
        "colab": {
          "base_uri": "https://localhost:8080/"
        }
      },
      "execution_count": 55,
      "outputs": [
        {
          "output_type": "execute_result",
          "data": {
            "text/plain": [
              "(1075324, 1200092)"
            ]
          },
          "metadata": {},
          "execution_count": 55
        }
      ]
    },
    {
      "cell_type": "code",
      "source": [
        "costs = [1, 3, 1]\n",
        "weights = [2, 2, 2]\n",
        "capacity = 3"
      ],
      "metadata": {
        "id": "sFVFJ4c9iYEq"
      },
      "execution_count": 56,
      "outputs": []
    },
    {
      "cell_type": "code",
      "source": [
        "dp_solution(costs, weights, capacity)"
      ],
      "metadata": {
        "colab": {
          "base_uri": "https://localhost:8080/"
        },
        "id": "gXUSsCeZiKH7",
        "outputId": "d5bf813f-4ec7-4d43-b71d-f4b0d05c688a"
      },
      "execution_count": 57,
      "outputs": [
        {
          "output_type": "execute_result",
          "data": {
            "text/plain": [
              "[0, 1, 0]"
            ]
          },
          "metadata": {},
          "execution_count": 57
        }
      ]
    },
    {
      "cell_type": "code",
      "source": [
        "dp_answers = []\n",
        "qubo_answers = []\n",
        "capacities = []\n",
        "def tests():\n",
        "    for num_of_items in range(1, 20):\n",
        "        num_of_tests = 1\n",
        "        qubo_time = 0\n",
        "        dp_time = 0\n",
        "\n",
        "        num_cap = 1000000\n",
        "        for test in range(num_of_tests):\n",
        "            costs = [random.randint(1, floor(num_cap / 2)) for i in range(num_of_items)]\n",
        "            weights = [random.randint(1, floor(num_cap / 2)) for i in range(num_of_items)]\n",
        "            capacity = random.randint(num_cap, 3 * num_cap)\n",
        "            dp_ans, time_ = timer(True)(dp_solution)(weights, costs, capacity)\n",
        "            dp_time += time_\n",
        "\n",
        "            dp_answers.append([[get_result(costs, weights, dp_ans)], time_]);\n",
        "\n",
        "            qubo_ans, time_ = timer(True)(qubo_solution)(costs, weights, capacity)\n",
        "            qubo_time += time_\n",
        "\n",
        "            qubo_answers.append([[get_result(costs, weights, qubo_ans)], time_]);\n",
        "\n",
        "            capacities.append(capacity)\n",
        "\n",
        "            weight_sum, _ = get_result(costs, weights, dp_ans)\n",
        "            if (capacity < weight_sum):\n",
        "                print(costs, weights, capacity)\n",
        "\n",
        "\n",
        "    return dp_answers, qubo_answers\n",
        "        # accuracy /= num_of_tests\n",
        "        # print(num_of_items, accuracy, \"qubo_time = \", qubo_time, \"dp_time = \", dp_time)"
      ],
      "metadata": {
        "id": "9N4zaqVOSJgj"
      },
      "execution_count": 65,
      "outputs": []
    },
    {
      "cell_type": "code",
      "source": [
        "tests()"
      ],
      "metadata": {
        "id": "Z3SiKXBxOHCQ",
        "outputId": "a445f7a1-a904-4220-88e6-65f8a90da8f4",
        "colab": {
          "base_uri": "https://localhost:8080/"
        }
      },
      "execution_count": 66,
      "outputs": [
        {
          "output_type": "stream",
          "name": "stdout",
          "text": [
            "[344921, 76554, 221806, 342337, 474114, 239894, 426034, 103110, 48848] [123510, 418448, 217337, 420002, 85947, 364058, 368940, 205214, 325802] 1062149\n",
            "[28761, 342482, 487125, 436930, 487891, 352945, 74892, 295590, 18246, 304591, 130852] [477054, 43409, 466604, 387246, 388398, 256497, 231828, 162580, 142714, 277559, 268406] 1794351\n",
            "[21033, 321538, 113636, 43571, 165661, 235239, 497985, 227039, 430324, 15043, 333270, 351170] [396461, 302243, 431487, 438763, 211784, 217128, 263283, 490138, 443284, 242446, 21681, 21408] 2172779\n",
            "[121238, 320063, 419876, 3116, 85808, 267285, 37446, 16406, 427500, 254887, 328403, 475185, 206800] [394364, 350752, 53846, 311910, 171075, 44090, 247381, 414729, 50284, 27831, 342196, 409561, 178532] 1606375\n",
            "[453182, 462109, 122860, 82369, 58239, 413838, 25914, 25838, 482275, 67615, 490309, 176442, 452697, 348820] [38057, 122425, 133722, 164138, 469564, 82205, 438378, 77009, 140004, 366937, 292984, 385008, 403257, 236142] 1482159\n",
            "[112792, 196951, 136959, 241378, 405008, 305225, 390455, 484554, 91980, 185855, 38093, 138473, 171014, 435169, 129995] [151813, 496615, 493930, 48887, 251490, 92906, 54334, 47370, 284674, 84264, 113887, 157489, 129364, 6659, 239368] 2232221\n",
            "[393449, 82243, 193496, 459531, 21772, 228574, 10518, 231493, 77999, 61608, 268714, 344286, 223700, 147016, 325260, 403377] [498041, 229824, 86233, 68334, 454, 150570, 199822, 10899, 138134, 106899, 299085, 456733, 342319, 481119, 57098, 59988] 2179772\n",
            "[257646, 112840, 388160, 36043, 421973, 46176, 449, 100298, 205541, 417863, 362012, 325037, 375318, 367396, 368272, 496986, 136658] [188503, 280713, 362953, 327001, 387060, 356543, 458914, 46661, 154665, 355702, 155858, 310469, 82035, 375797, 371731, 303794, 75615] 2872727\n",
            "[259093, 452134, 132871, 246275, 54600, 240035, 398051, 349942, 496532, 196483, 37611, 128781, 445849, 216419, 254995, 26794, 335254, 192965] [288600, 276516, 275421, 16271, 306320, 176817, 417129, 368025, 74685, 172539, 38133, 401907, 8631, 60503, 325875, 217431, 375366, 410495] 2235414\n",
            "[201739, 433663, 10474, 484249, 265908, 190608, 326503, 386698, 274493, 114322, 375735, 370567, 122105, 327630, 351303, 253021, 6786, 316752, 14735] [53985, 85276, 378274, 147031, 448577, 255907, 160039, 106945, 145785, 173223, 318853, 155542, 56872, 303561, 309356, 224429, 278847, 321922, 119802] 1756617\n"
          ]
        },
        {
          "output_type": "execute_result",
          "data": {
            "text/plain": [
              "([[[(20045, 13048)], 2047.676356],\n",
              "  [[(407606, 617694)], 4158.072042],\n",
              "  [[(1032846, 532467)], 6551.070079],\n",
              "  [[(1192427, 1412222)], 6145.440578],\n",
              "  [[(1370819, 1370933)], 9680.108725],\n",
              "  [[(1143123, 1072088)], 11434.7784],\n",
              "  [[(1870397, 2010744)], 13391.390932999999],\n",
              "  [[(1941982, 1908291)], 13359.077846],\n",
              "  [[(1950861, 1032549)], 7157.1350729999995],\n",
              "  [[(2214737, 2041499)], 15401.776608],\n",
              "  [[(2413991, 1776987)], 13327.390255],\n",
              "  [[(3437017, 2071069)], 18896.911702999998],\n",
              "  [[(2820500, 1594465)], 13841.836956],\n",
              "  [[(2674155, 1360794)], 13504.370165],\n",
              "  [[(2544687, 2153723)], 23019.29658],\n",
              "  [[(2989233, 2053375)], 23930.412224],\n",
              "  [[(3822047, 2842153)], 33929.922342],\n",
              "  [[(3424702, 2170957)], 28118.027088],\n",
              "  [[(2655838, 1745055)], 22393.493975999998]],\n",
              " [[[(20045, 13048)], 45.403503],\n",
              "  [[(407606, 617694)], 51.003094],\n",
              "  [[(1032846, 532467)], 88.028408],\n",
              "  [[(1192427, 1412222)], 143.867282],\n",
              "  [[(1370819, 1370933)], 207.05149699999998],\n",
              "  [[(1143123, 1072088)], 268.78877],\n",
              "  [[(1870397, 2010744)], 373.752406],\n",
              "  [[(1941982, 1908291)], 467.994982],\n",
              "  [[(1058800, 714776)], 559.652144],\n",
              "  [[(2214737, 2041499)], 662.116004],\n",
              "  [[(1785433, 1444396)], 798.502092],\n",
              "  [[(2166572, 2167978)], 1165.062559],\n",
              "  [[(1604940, 1045461)], 1123.208567],\n",
              "  [[(1482565, 1476247)], 1257.203798],\n",
              "  [[(2233222, 2305563)], 1415.398716],\n",
              "  [[(2176813, 2346864)], 1623.6670159999999],\n",
              "  [[(2873247, 2043162)], 1831.233109],\n",
              "  [[(2234712, 1714509)], 2101.141091],\n",
              "  [[(1761009, 1775494)], 2232.932972]])"
            ]
          },
          "metadata": {},
          "execution_count": 66
        }
      ]
    },
    {
      "cell_type": "code",
      "source": [
        "fig, (ax1, ax2, ax3) = plt.subplots(3, 1, figsize=(9, 9))\n",
        "\n",
        "num_of_items = [i for i in range(1, len(dp_answers) + 1)]\n",
        "\n",
        "#costs\n",
        "dp_costs = [dp_answers[i][0][0][1] for i in range(len(dp_answers))]\n",
        "qubo_costs = [qubo_answers[i][0][0][1] for i in range(len(qubo_answers))]\n",
        "\n",
        "ax1.plot(num_of_items, dp_costs, label=\"dp\")\n",
        "ax1.plot(num_of_items, qubo_costs, label=\"qubo\")\n",
        "\n",
        "ax1.set_ylabel(\"total costs\")\n",
        "ax1.set_xlabel(\"num of items\")\n",
        "\n",
        "#weights\n",
        "dp_weights = [dp_answers[i][0][0][0] for i in range(len(dp_answers))]\n",
        "qubo_weights = [qubo_answers[i][0][0][0] for i in range(len(qubo_answers))]\n",
        "\n",
        "ax2.plot(num_of_items, dp_weights, label=\"dp\")\n",
        "ax2.plot(num_of_items, qubo_weights, label=\"qubo\")\n",
        "# ax2.scatter(num_of_items, capacities, label=\"capacity\", marker = 'o', color=\"red\")\n",
        "\n",
        "ax2.set_ylabel(\"total weight\")\n",
        "ax2.set_xlabel(\"num of items\")\n",
        "\n",
        "#time\n",
        "dp_time = [dp_answers[i][1] / 1000 for i in range(len(dp_answers))]\n",
        "qubo_time = [qubo_answers[i][1] / 1000 for i in range(len(qubo_answers))]\n",
        "\n",
        "ax3.plot(num_of_items, dp_time, label=\"dp\")\n",
        "ax3.plot(num_of_items, qubo_time, label=\"qubo\")\n",
        "\n",
        "ax3.set_ylabel(\"time in seconds\")\n",
        "ax3.set_xlabel(\"num of items\")\n",
        "\n",
        "plt.legend()\n",
        "plt.show()"
      ],
      "metadata": {
        "colab": {
          "base_uri": "https://localhost:8080/",
          "height": 788
        },
        "id": "dtOQc3P-SjYP",
        "outputId": "a68f7d52-7d2e-4e81-9e72-ea88cf65d7d3"
      },
      "execution_count": 67,
      "outputs": [
        {
          "output_type": "display_data",
          "data": {
            "text/plain": [
              "<Figure size 900x900 with 3 Axes>"
            ],
            "image/png": "[encoded data removed]"
          },
          "metadata": {}
        }
      ]
    }
  ]
}